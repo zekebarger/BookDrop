{
 "cells": [
  {
   "cell_type": "markdown",
   "metadata": {
    "toc": true
   },
   "source": [
    "<h1>Table of Contents<span class=\"tocSkip\"></span></h1>\n",
    "<div class=\"toc\"><ul class=\"toc-item\"><li><span><a href=\"#Imports\" data-toc-modified-id=\"Imports-1\">Imports</a></span></li><li><span><a href=\"#Define-parameters\" data-toc-modified-id=\"Define-parameters-2\">Define parameters</a></span></li><li><span><a href=\"#Train-models\" data-toc-modified-id=\"Train-models-3\">Train models</a></span></li><li><span><a href=\"#Plot-feature-importance\" data-toc-modified-id=\"Plot-feature-importance-4\">Plot feature importance</a></span></li><li><span><a href=\"#Plot-reliability-diagram\" data-toc-modified-id=\"Plot-reliability-diagram-5\">Plot reliability diagram</a></span></li></ul></div>"
   ]
  },
  {
   "cell_type": "markdown",
   "metadata": {},
   "source": [
    "# Imports"
   ]
  },
  {
   "cell_type": "code",
   "execution_count": 1,
   "metadata": {
    "ExecuteTime": {
     "end_time": "2020-07-01T18:42:00.003301Z",
     "start_time": "2020-07-01T18:41:55.233691Z"
    }
   },
   "outputs": [],
   "source": [
    "import numpy as np\n",
    "import matplotlib.pyplot as plt\n",
    "%matplotlib inline\n",
    "import seaborn as sns\n",
    "import pandas as pd\n",
    "import datetime\n",
    "import os.path\n",
    "import random\n",
    "from imblearn.under_sampling import RandomUnderSampler\n",
    "from sklearn import tree, ensemble\n",
    "from sklearn.ensemble import RandomForestClassifier\n",
    "import pickle\n",
    "import scipy\n",
    "from sklearn import calibration\n",
    "import sklearn.model_selection as model_selection\n",
    "import utils.bookdroputils as bd"
   ]
  },
  {
   "cell_type": "markdown",
   "metadata": {},
   "source": [
    "# Define parameters"
   ]
  },
  {
   "cell_type": "code",
   "execution_count": 2,
   "metadata": {
    "ExecuteTime": {
     "end_time": "2020-07-01T18:42:00.065136Z",
     "start_time": "2020-07-01T18:42:00.005297Z"
    }
   },
   "outputs": [],
   "source": [
    "# Choose filenames for the models\n",
    "model_filenames = ['RFmodel1.sav', 'RFmodel2.sav']\n",
    "# Decide whether to save the trained model\n",
    "save_models = True\n",
    "\n",
    "# Find directory for the dataset\n",
    "mydir = os.path.join('data','paperbacks')\n",
    "# Collect list of files in the dataset\n",
    "file_list = [f for f in os.listdir(mydir) if os.path.isfile(os.path.join(mydir, f))]\n",
    "\n",
    "# Number of timepoints to search ahead for a price drop\n",
    "futures = [60, 120]\n",
    "# Fraction of the price considered a 'drop'\n",
    "# E.g., 0.1 for a 10% price drop\n",
    "drop_frac = .1"
   ]
  },
  {
   "cell_type": "markdown",
   "metadata": {},
   "source": [
    "# Train models"
   ]
  },
  {
   "cell_type": "code",
   "execution_count": 3,
   "metadata": {
    "ExecuteTime": {
     "end_time": "2020-07-01T18:44:10.477044Z",
     "start_time": "2020-07-01T18:42:00.069126Z"
    }
   },
   "outputs": [
    {
     "name": "stdout",
     "output_type": "stream",
     "text": [
      "Threshold for RFmodel1.sav is:\n",
      "0.14295234784705693\n",
      "Threshold for RFmodel2.sav is:\n",
      "0.2304682764094403\n"
     ]
    }
   ],
   "source": [
    "for idx, model_filename in enumerate(model_filenames):\n",
    "    # Initialize storage for features and labels\n",
    "    X = list([])\n",
    "    Y = list([])\n",
    "\n",
    "    future = futures[idx]\n",
    "\n",
    "    # get data from files\n",
    "    for product_id in file_list:\n",
    "        # Read file\n",
    "        df = pd.read_csv(os.path.join(mydir, product_id))\n",
    "        # Drop missing values\n",
    "        df.dropna(inplace=True)\n",
    "        # Convert prices to array\n",
    "        prices = np.array(df['price'])\n",
    "\n",
    "        # collect data at intervals\n",
    "        for k in range(\n",
    "                random.randint(0, 30) + 120 + 5, df.shape[0] - future - 30,\n",
    "                60):\n",
    "\n",
    "            # Extract and store price features\n",
    "            features = bd.compute_features(prices[:k + 1], drop_frac)\n",
    "            X.append(features)\n",
    "\n",
    "            # Store the class label\n",
    "            if np.any(prices[(k + 1):(k + future + 1)] < (1 - drop_frac) *\n",
    "                      prices[k]):\n",
    "                Y.append(1)\n",
    "            else:\n",
    "                Y.append(0)\n",
    "\n",
    "    # Convert features and labels to arrays\n",
    "    x_train = np.array(X)\n",
    "    y_train = np.array(Y)\n",
    "\n",
    "    # Hold out some training data to calibrate the classifier\n",
    "    x_cal, x_train, y_cal, y_train = model_selection.train_test_split(\n",
    "        x_train, y_train, train_size=0.15, test_size=0.85)\n",
    "\n",
    "    # Balance classes in training set\n",
    "    undersample = RandomUnderSampler(sampling_strategy='majority')\n",
    "    x_train_balanced, y_train_balanced = undersample.fit_resample(\n",
    "        x_train, y_train)\n",
    "\n",
    "    # Define parameters for the random forest model\n",
    "    parameters = {\n",
    "        'bootstrap': True,\n",
    "        'max_depth': 10,\n",
    "        'max_features': 'sqrt',\n",
    "        'min_samples_leaf': 4,\n",
    "        'min_samples_split': 4,\n",
    "        'n_estimators': 300\n",
    "    }\n",
    "    # Initialize the model\n",
    "    RF_model_uncalibrated = RandomForestClassifier(**parameters)\n",
    "    # Fit the model\n",
    "    RF_model_uncalibrated.fit(x_train_balanced, y_train_balanced)\n",
    "    # Predict probabilities on the training set\n",
    "    uncalibrated_probs = RF_model_uncalibrated.predict_proba(x_train)\n",
    "\n",
    "    # Model calibration\n",
    "    # Create calibrated model\n",
    "    RF_model = calibration.CalibratedClassifierCV(RF_model_uncalibrated,\n",
    "                                                  cv=\"prefit\",\n",
    "                                                  method='sigmoid')\n",
    "    # Fit the model\n",
    "    RF_model.fit(x_cal, y_cal)\n",
    "    calibrated_probs = RF_model.predict_proba(x_train)\n",
    "    # Find the classification threshold that gives the same\n",
    "    # outputs as the calibrated classifier\n",
    "    threshold = np.quantile(\n",
    "        calibrated_probs[:, 1],\n",
    "        np.sum(uncalibrated_probs[:, 1] <= .5) /\n",
    "        np.size(uncalibrated_probs[:, 1]))\n",
    "\n",
    "    # You'll need this threshold when using the model to make preductions\n",
    "    print('Threshold for ' + model_filename + ' is:')\n",
    "    print(threshold)\n",
    "\n",
    "    if save_models:\n",
    "        pickle.dump(RF_model, open(model_filename, 'wb'))"
   ]
  },
  {
   "cell_type": "markdown",
   "metadata": {},
   "source": [
    "# Plot feature importance"
   ]
  },
  {
   "cell_type": "markdown",
   "metadata": {},
   "source": [
    "See the [slides](http://slides.book-drop.site/) (specifically slide 11) for an explanation of the features."
   ]
  },
  {
   "cell_type": "code",
   "execution_count": 4,
   "metadata": {
    "ExecuteTime": {
     "end_time": "2020-07-01T18:44:10.638600Z",
     "start_time": "2020-07-01T18:44:10.479026Z"
    }
   },
   "outputs": [
    {
     "data": {
      "image/png": "[encoded data removed]",
      "text/plain": [
       "<Figure size 360x432 with 1 Axes>"
      ]
     },
     "metadata": {
      "needs_background": "light"
     },
     "output_type": "display_data"
    }
   ],
   "source": [
    "# Get feature importances\n",
    "importances = RF_model_uncalibrated.feature_importances_\n",
    "# Get error bars\n",
    "std = np.std([tree.feature_importances_ for tree in RF_model_uncalibrated.estimators_],\n",
    "             axis=0)\n",
    "# Sort the features\n",
    "indices = np.argsort(importances)[::-1]\n",
    "\n",
    "\n",
    "# Plot the impurity-based feature importances of the forest\n",
    "fig = plt.figure(figsize=(5,6))\n",
    "ax1 = fig.add_subplot(111)\n",
    "ax1.bar(range(x_train_balanced.shape[1]), importances[indices],\n",
    "        yerr=std[indices], align=\"center\")\n",
    "plt.title(\"Feature importance\",fontsize=20)\n",
    "plt.xticks(range(x_train_balanced.shape[1]), indices+1,fontsize=15)\n",
    "plt.xlim([-1, x_train_balanced.shape[1]])\n",
    "plt.ylabel(\"Importance\",fontsize=18)\n",
    "plt.yticks([0,.1,.2,.3],fontsize=15)\n",
    "plt.xlabel(\"Feature\",fontsize=18)\n",
    "\n",
    "plt.show()"
   ]
  },
  {
   "cell_type": "markdown",
   "metadata": {},
   "source": [
    "# Plot reliability diagram"
   ]
  },
  {
   "cell_type": "code",
   "execution_count": 5,
   "metadata": {
    "ExecuteTime": {
     "end_time": "2020-07-01T18:44:16.117977Z",
     "start_time": "2020-07-01T18:44:10.640594Z"
    }
   },
   "outputs": [
    {
     "data": {
      "image/png": "[encoded data removed]",
      "text/plain": [
       "<Figure size 432x432 with 1 Axes>"
      ]
     },
     "metadata": {
      "needs_background": "light"
     },
     "output_type": "display_data"
    }
   ],
   "source": [
    "fig = plt.figure(figsize=(6, 6))\n",
    "# Predict probabilities using uncalibrated model\n",
    "probs = RF_model_uncalibrated.predict_proba(x_train)[:, 1]\n",
    "# Generate data for reliability diagram\n",
    "prob_true, prob_pred = calibration.calibration_curve(y_train,\n",
    "                                                     probs,\n",
    "                                                     n_bins=10,\n",
    "                                                     strategy=\"quantile\")\n",
    "# Plot what a perfectly calibrated model would look like\n",
    "plt.plot([0, 1], [0, 1], linestyle='--')\n",
    "# Plot uncalibrated model reliability\n",
    "b, = plt.plot(prob_pred, prob_true, marker='.')\n",
    "\n",
    "# Predict probabilities using calibrated model\n",
    "probs = RF_model.predict_proba(x_train)[:, 1]\n",
    "# Generate reliability data\n",
    "prob_true_calibrated, prob_pred_calibrated = calibration.calibration_curve(\n",
    "    y_train, probs, n_bins=10, strategy=\"quantile\")\n",
    "# Plot calibrated model reliability\n",
    "a, = plt.plot(prob_pred_calibrated, prob_true_calibrated, marker='.')\n",
    "\n",
    "plt.title(\"Reliability diagram\", fontsize=20)\n",
    "plt.ylabel(\"True probability\", fontsize=18)\n",
    "plt.yticks(np.arange(0, 1.2, .2), fontsize=15)\n",
    "plt.xlabel(\"Model prediction\", fontsize=18)\n",
    "plt.xticks(np.arange(.0, 1.2, .2), fontsize=15)\n",
    "plt.legend([a, b], ['Before calibration', 'After calibration'], fontsize=15)\n",
    "plt.show()"
   ]
  }
 ],
 "metadata": {
  "kernelspec": {
   "display_name": "Python 3",
   "language": "python",
   "name": "python3"
  },
  "language_info": {
   "codemirror_mode": {
    "name": "ipython",
    "version": 3
   },
   "file_extension": ".py",
   "mimetype": "text/x-python",
   "name": "python",
   "nbconvert_exporter": "python",
   "pygments_lexer": "ipython3",
   "version": "3.8.3"
  },
  "toc": {
   "base_numbering": 1,
   "nav_menu": {},
   "number_sections": false,
   "sideBar": true,
   "skip_h1_title": false,
   "title_cell": "Table of Contents",
   "title_sidebar": "Contents",
   "toc_cell": true,
   "toc_position": {},
   "toc_section_display": true,
   "toc_window_display": false
  },
  "varInspector": {
   "cols": {
    "lenName": 16,
    "lenType": 16,
    "lenVar": 40
   },
   "kernels_config": {
    "python": {
     "delete_cmd_postfix": "",
     "delete_cmd_prefix": "del ",
     "library": "var_list.py",
     "varRefreshCmd": "print(var_dic_list())"
    },
    "r": {
     "delete_cmd_postfix": ") ",
     "delete_cmd_prefix": "rm(",
     "library": "var_list.r",
     "varRefreshCmd": "cat(var_dic_list()) "
    }
   },
   "types_to_exclude": [
    "module",
    "function",
    "builtin_function_or_method",
    "instance",
    "_Feature"
   ],
   "window_display": false
  }
 },
 "nbformat": 4,
 "nbformat_minor": 4
}
