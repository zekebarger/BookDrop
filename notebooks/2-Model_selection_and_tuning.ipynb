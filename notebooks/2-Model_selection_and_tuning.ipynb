{
 "cells": [
  {
   "cell_type": "markdown",
   "metadata": {
    "toc": true
   },
   "source": [
    "<h1>Table of Contents<span class=\"tocSkip\"></span></h1>\n",
    "<div class=\"toc\"><ul class=\"toc-item\"><li><span><a href=\"#Imports\" data-toc-modified-id=\"Imports-1\">Imports</a></span></li><li><span><a href=\"#Define-parameters\" data-toc-modified-id=\"Define-parameters-2\">Define parameters</a></span></li><li><span><a href=\"#Collect-list-of-files-and-split-into-train-and-test-sets\" data-toc-modified-id=\"Collect-list-of-files-and-split-into-train-and-test-sets-3\">Collect list of files and split into train and test sets</a></span></li><li><span><a href=\"#Extract-feature-data\" data-toc-modified-id=\"Extract-feature-data-4\">Extract feature data</a></span></li><li><span><a href=\"#Hyperparameter-tuning-for-logistic-regression-and-random-forest-models\" data-toc-modified-id=\"Hyperparameter-tuning-for-logistic-regression-and-random-forest-models-5\">Hyperparameter tuning for logistic regression and random forest models</a></span></li><li><span><a href=\"#Model-selection\" data-toc-modified-id=\"Model-selection-6\">Model selection</a></span></li><li><span><a href=\"#Evaluating-the-final-model\" data-toc-modified-id=\"Evaluating-the-final-model-7\">Evaluating the final model</a></span></li><li><span><a href=\"#Evaluating-other-problem-definitions\" data-toc-modified-id=\"Evaluating-other-problem-definitions-8\">Evaluating other problem definitions</a></span></li></ul></div>"
   ]
  },
  {
   "cell_type": "markdown",
   "metadata": {},
   "source": [
    "# Imports"
   ]
  },
  {
   "cell_type": "code",
   "execution_count": 1,
   "metadata": {
    "ExecuteTime": {
     "end_time": "2020-07-01T18:04:29.742445Z",
     "start_time": "2020-07-01T18:04:25.091417Z"
    }
   },
   "outputs": [],
   "source": [
    "import numpy as np\n",
    "import matplotlib.pyplot as plt\n",
    "%matplotlib inline\n",
    "import pandas as pd\n",
    "import datetime\n",
    "import os.path\n",
    "import random\n",
    "from imblearn.under_sampling import RandomUnderSampler\n",
    "from sklearn.model_selection import train_test_split\n",
    "import sklearn.metrics \n",
    "from sklearn import tree, ensemble\n",
    "from sklearn.ensemble import RandomForestClassifier\n",
    "from imblearn.ensemble import BalancedRandomForestClassifier\n",
    "from sklearn import calibration\n",
    "import utils.bookdroputils as bd\n",
    "import sklearn.model_selection as model_selection\n",
    "from sklearn.pipeline import Pipeline\n",
    "from sklearn.linear_model import LogisticRegression\n",
    "from sklearn.preprocessing import MinMaxScaler"
   ]
  },
  {
   "cell_type": "markdown",
   "metadata": {},
   "source": [
    "# Define parameters"
   ]
  },
  {
   "cell_type": "code",
   "execution_count": 2,
   "metadata": {
    "ExecuteTime": {
     "end_time": "2020-07-01T18:04:29.748390Z",
     "start_time": "2020-07-01T18:04:29.744401Z"
    }
   },
   "outputs": [],
   "source": [
    "# Specify the dataset to use\n",
    "data_set = 'paperbacks' # 'boardgames' or 'paperbacks'\n",
    "\n",
    "# Find directory for that dataset\n",
    "data_folder = os.path.join('data',data_set)\n",
    "\n",
    "# Number of timepoints to search ahead for a price drop\n",
    "future = 60\n",
    "# Fraction of the price considered a 'drop'\n",
    "# E.g., 0.1 for a 10% price drop\n",
    "drop_frac = .1"
   ]
  },
  {
   "cell_type": "markdown",
   "metadata": {},
   "source": [
    "# Collect list of files and split into train and test sets"
   ]
  },
  {
   "cell_type": "code",
   "execution_count": 3,
   "metadata": {
    "ExecuteTime": {
     "end_time": "2020-07-01T18:04:29.812248Z",
     "start_time": "2020-07-01T18:04:29.750385Z"
    }
   },
   "outputs": [],
   "source": [
    "# Collect list of all files\n",
    "file_list = [f for f in os.listdir(data_folder) if os.path.isfile(os.path.join(data_folder, f))]\n",
    "# Split list into train and test sets\n",
    "# (the same way we did for EDA)\n",
    "train, test = train_test_split(file_list, test_size=0.2, random_state=777)"
   ]
  },
  {
   "cell_type": "markdown",
   "metadata": {},
   "source": [
    "# Extract feature data"
   ]
  },
  {
   "cell_type": "code",
   "execution_count": 4,
   "metadata": {
    "ExecuteTime": {
     "end_time": "2020-07-01T18:04:29.831196Z",
     "start_time": "2020-07-01T18:04:29.817207Z"
    }
   },
   "outputs": [],
   "source": [
    "def extract_feature_data(files, data_set, future, drop_frac, verbose=False):\n",
    "    # Store features and labels\n",
    "    X = []\n",
    "    Y = []\n",
    "    # Also store dollars spent and time waited for each strategy\n",
    "    dollars_spent = []\n",
    "    time_waited = []\n",
    "    \n",
    "    # Display messages when progress crosses this threshold\n",
    "    progress_threshold = 0\n",
    "    num_processed = 0\n",
    "    \n",
    "    # For each product\n",
    "    for file_name in files:\n",
    "        # Read file\n",
    "        df = pd.read_csv(os.path.join('data', data_set, file_name))\n",
    "        # Drop missing values\n",
    "        df.dropna(inplace=True)\n",
    "        # Convert prices to array\n",
    "        prices = np.array(df['price'])\n",
    "\n",
    "        # Sample data at 1-month intervals, starting at a random point in time\n",
    "        for k in range(\n",
    "                random.randint(0, 30) + 120 + 5, df.shape[0] - future - 30,\n",
    "                60):\n",
    "\n",
    "            # Extract price features\n",
    "            features = bd.compute_features(prices[:k + 1], drop_frac)\n",
    "\n",
    "            # Store the features\n",
    "            X.append(features)\n",
    "\n",
    "            # Store the class label\n",
    "            if np.any(prices[(k + 1):(k + future + 1)] < (1 - drop_frac) *\n",
    "                      prices[k]):\n",
    "                Y.append(1)\n",
    "            else:\n",
    "                Y.append(0)\n",
    "\n",
    "            # Extract the prices in the lookahead period\n",
    "            future_prices = prices[(k + 1):(k + future + 1)]\n",
    "\n",
    "            # Compute dollars spent and time waited for each strategy\n",
    "            if Y[-1] == 1:\n",
    "                idx_below = np.argwhere(future_prices < (1 - drop_frac) *\n",
    "                                        prices[k])[0].astype(int)[0]\n",
    "                bookdrop_price = future_prices[idx_below]\n",
    "                bookdrop_wait = idx_below + 1\n",
    "                tracker_price = future_prices[idx_below]\n",
    "                tracker_wait = idx_below + 1\n",
    "                perfect_price = future_prices[idx_below]\n",
    "                perfect_wait = idx_below + 1\n",
    "\n",
    "            else:\n",
    "                bookdrop_price = prices[k + future]\n",
    "                bookdrop_wait = future\n",
    "                tracker_price = prices[k + future]\n",
    "                tracker_wait = future\n",
    "                perfect_price = prices[k]\n",
    "                perfect_wait = 0\n",
    "\n",
    "            # Store the dollars spent\n",
    "            dollars_spent.append(\n",
    "                np.array([\n",
    "                    perfect_price, bookdrop_price, tracker_price, prices[k],\n",
    "                    prices[k + future]\n",
    "                ]))\n",
    "\n",
    "            # Store the time waited\n",
    "            time_waited.append(\n",
    "                np.array([perfect_wait, bookdrop_wait, tracker_wait]))\n",
    "\n",
    "        # Show progress\n",
    "        if verbose:\n",
    "            num_processed += 1\n",
    "            if num_processed / len(files) > progress_threshold:\n",
    "                print(str(round(progress_threshold * 100)) + '% done')\n",
    "                progress_threshold += .2\n",
    "            \n",
    "    return np.array(X), np.array(Y), np.array(dollars_spent), np.array(time_waited)"
   ]
  },
  {
   "cell_type": "code",
   "execution_count": 5,
   "metadata": {
    "ExecuteTime": {
     "end_time": "2020-07-01T18:05:22.574413Z",
     "start_time": "2020-07-01T18:04:29.833164Z"
    }
   },
   "outputs": [],
   "source": [
    "# Set random seeds for reproducibility\n",
    "random.seed(99)\n",
    "np.random.seed(99)\n",
    "\n",
    "# Collect data from train and test sets\n",
    "X_train, Y_train, dollars_spent_train, time_waited_train = extract_feature_data(train, data_set, future, drop_frac)\n",
    "X_test, Y_test, dollars_spent_test, time_waited_test = extract_feature_data(test, data_set, future, drop_frac)"
   ]
  },
  {
   "cell_type": "markdown",
   "metadata": {},
   "source": [
    "# Hyperparameter tuning for logistic regression and random forest models"
   ]
  },
  {
   "cell_type": "code",
   "execution_count": 6,
   "metadata": {
    "ExecuteTime": {
     "end_time": "2020-07-01T18:05:22.586411Z",
     "start_time": "2020-07-01T18:05:22.576410Z"
    }
   },
   "outputs": [],
   "source": [
    "# Keep a copy of the training data before splitting off a secondary test set for model selection\n",
    "X_train_full = np.copy(X_train)\n",
    "Y_train_full = np.copy(Y_train)\n",
    "dollars_spent_train_full = np.copy(dollars_spent_train)\n",
    "time_waited_train_full = np.copy(time_waited_train)"
   ]
  },
  {
   "cell_type": "code",
   "execution_count": 7,
   "metadata": {
    "ExecuteTime": {
     "end_time": "2020-07-01T18:05:22.607519Z",
     "start_time": "2020-07-01T18:05:22.588380Z"
    }
   },
   "outputs": [],
   "source": [
    "# Split off the secondary test set for model selection\n",
    "X_train, X_test2, Y_train, Y_test2, \\\n",
    "    dollars_spent_train, dollars_spent_test2, \\\n",
    "    time_waited_train, time_waited_test2 = \\\n",
    "    train_test_split(X_train, Y_train, \\\n",
    "                     dollars_spent_train, time_waited_train, test_size=0.2, random_state=888)"
   ]
  },
  {
   "cell_type": "code",
   "execution_count": 8,
   "metadata": {
    "ExecuteTime": {
     "end_time": "2020-07-01T18:05:22.635368Z",
     "start_time": "2020-07-01T18:05:22.609323Z"
    }
   },
   "outputs": [],
   "source": [
    "# Balance classes in training set for the logistic regression model\n",
    "undersample = RandomUnderSampler(sampling_strategy='majority', random_state = 999)\n",
    "X_train_balanced, Y_train_balanced = undersample.fit_resample(X_train, Y_train)\n",
    "# Perform featues scaling for the logistic regression model\n",
    "scaler = MinMaxScaler(feature_range = (0,1))\n",
    "scaler.fit(X_train_balanced)\n",
    "X_train_scaled = scaler.transform(X_train_balanced)\n",
    "X_test2_scaled = scaler.transform(X_test2)\n",
    "\n",
    "# Define the parameter space to search for each model\n",
    "# adapted from https://towardsdatascience.com/hyperparameter-tuning-the-random-forest-in-python-using-scikit-learn-28d2aa77dd74\n",
    "# and https://towardsdatascience.com/logistic-regression-model-tuning-with-scikit-learn-part-1-425142e01af5\n",
    "\n",
    "# Number of trees in random forest\n",
    "n_estimators = [100, 200, 300]\n",
    "# Number of features to consider at every split\n",
    "max_features = ['sqrt']\n",
    "# Maximum number of levels in tree\n",
    "max_depth = [5, 10]\n",
    "# Minimum number of samples required to split a node\n",
    "min_samples_split = [2, 4, 8]\n",
    "# Minimum number of samples required at each leaf node\n",
    "min_samples_leaf = [2, 4, 8]\n",
    "# Method of selecting samples for training each tree\n",
    "bootstrap = [True]\n",
    "\n",
    "# Create the grid\n",
    "rf_params = {\n",
    "    'n_estimators': n_estimators,\n",
    "    'max_features': max_features,\n",
    "    'max_depth': max_depth,\n",
    "    'min_samples_split': min_samples_split,\n",
    "    'min_samples_leaf': min_samples_leaf,\n",
    "    'bootstrap': bootstrap\n",
    "}\n",
    "\n",
    "# Define the parameter space to search for the logistic regression classifier\n",
    "lr_params = {\n",
    "    'penalty': ['l1', 'l2', 'elasticnet'],\n",
    "    'C': np.logspace(-4, 4, 20)\n",
    "}\n",
    "\n",
    "lr_grid = model_selection.GridSearchCV(LogisticRegression(), param_grid = lr_params, \\\n",
    "                                       cv = 4, verbose=True, n_jobs=-1, scoring='recall')\n",
    "rf_grid = model_selection.GridSearchCV(BalancedRandomForestClassifier(), param_grid = rf_params, \\\n",
    "                                       cv = 4, verbose=True, n_jobs=-1, scoring='recall')"
   ]
  },
  {
   "cell_type": "code",
   "execution_count": 9,
   "metadata": {
    "ExecuteTime": {
     "end_time": "2020-07-01T18:05:24.973598Z",
     "start_time": "2020-07-01T18:05:22.636252Z"
    }
   },
   "outputs": [
    {
     "name": "stdout",
     "output_type": "stream",
     "text": [
      "Fitting 4 folds for each of 60 candidates, totalling 240 fits\n"
     ]
    },
    {
     "name": "stderr",
     "output_type": "stream",
     "text": [
      "[Parallel(n_jobs=-1)]: Using backend LokyBackend with 4 concurrent workers.\n",
      "[Parallel(n_jobs=-1)]: Done  68 tasks      | elapsed:    1.3s\n",
      "[Parallel(n_jobs=-1)]: Done 240 out of 240 | elapsed:    2.1s finished\n"
     ]
    },
    {
     "data": {
      "text/plain": [
       "GridSearchCV(cv=4, estimator=LogisticRegression(), n_jobs=-1,\n",
       "             param_grid={'C': array([1.00000000e-04, 2.63665090e-04, 6.95192796e-04, 1.83298071e-03,\n",
       "       4.83293024e-03, 1.27427499e-02, 3.35981829e-02, 8.85866790e-02,\n",
       "       2.33572147e-01, 6.15848211e-01, 1.62377674e+00, 4.28133240e+00,\n",
       "       1.12883789e+01, 2.97635144e+01, 7.84759970e+01, 2.06913808e+02,\n",
       "       5.45559478e+02, 1.43844989e+03, 3.79269019e+03, 1.00000000e+04]),\n",
       "                         'penalty': ['l1', 'l2', 'elasticnet']},\n",
       "             scoring='recall', verbose=True)"
      ]
     },
     "execution_count": 9,
     "metadata": {},
     "output_type": "execute_result"
    }
   ],
   "source": [
    "# Fit the logistic regression grid search models\n",
    "lr_grid.fit(X_train_scaled, Y_train_balanced)"
   ]
  },
  {
   "cell_type": "code",
   "execution_count": 10,
   "metadata": {
    "ExecuteTime": {
     "end_time": "2020-07-01T18:10:47.538487Z",
     "start_time": "2020-07-01T18:05:24.976590Z"
    },
    "scrolled": true
   },
   "outputs": [
    {
     "name": "stderr",
     "output_type": "stream",
     "text": [
      "[Parallel(n_jobs=-1)]: Using backend LokyBackend with 4 concurrent workers.\n"
     ]
    },
    {
     "name": "stdout",
     "output_type": "stream",
     "text": [
      "Fitting 4 folds for each of 54 candidates, totalling 216 fits\n"
     ]
    },
    {
     "name": "stderr",
     "output_type": "stream",
     "text": [
      "[Parallel(n_jobs=-1)]: Done  42 tasks      | elapsed:   52.1s\n",
      "[Parallel(n_jobs=-1)]: Done 192 tasks      | elapsed:  4.6min\n",
      "[Parallel(n_jobs=-1)]: Done 216 out of 216 | elapsed:  5.2min finished\n"
     ]
    },
    {
     "data": {
      "text/plain": [
       "GridSearchCV(cv=4, estimator=BalancedRandomForestClassifier(), n_jobs=-1,\n",
       "             param_grid={'bootstrap': [True], 'max_depth': [5, 10],\n",
       "                         'max_features': ['sqrt'],\n",
       "                         'min_samples_leaf': [2, 4, 8],\n",
       "                         'min_samples_split': [2, 4, 8],\n",
       "                         'n_estimators': [100, 200, 300]},\n",
       "             scoring='recall', verbose=True)"
      ]
     },
     "execution_count": 10,
     "metadata": {},
     "output_type": "execute_result"
    }
   ],
   "source": [
    "# Fit the random forest grid search models\n",
    "rf_grid.fit(X_train, Y_train)"
   ]
  },
  {
   "cell_type": "code",
   "execution_count": 11,
   "metadata": {
    "ExecuteTime": {
     "end_time": "2020-07-01T18:10:47.544471Z",
     "start_time": "2020-07-01T18:10:47.540504Z"
    }
   },
   "outputs": [],
   "source": [
    "# Get the best model of each class\n",
    "best_lr = lr_grid.best_estimator_\n",
    "best_rf = rf_grid.best_estimator_"
   ]
  },
  {
   "cell_type": "markdown",
   "metadata": {},
   "source": [
    "# Model selection"
   ]
  },
  {
   "cell_type": "code",
   "execution_count": 12,
   "metadata": {
    "ExecuteTime": {
     "end_time": "2020-07-01T18:10:47.566442Z",
     "start_time": "2020-07-01T18:10:47.546467Z"
    }
   },
   "outputs": [],
   "source": [
    "# Define a function to evaluate the performance of a model on a test set\n",
    "def evaluate_model(model, x_test, y_test, dollars_spent_test, time_waited_test, future):\n",
    "    # Make predictions on test set\n",
    "    y_pred = model.predict(x_test)\n",
    "    # Calculate accuracy\n",
    "    accuracy = 100 * sum(y_pred == y_test)/len(y_pred)\n",
    "    \n",
    "    # Compute errors for the confusion matrix\n",
    "    TN = np.sum(np.bitwise_and(y_test == 0, y_pred == 0))\n",
    "    FP = np.sum(np.bitwise_and(y_test == 0, y_pred == 1))\n",
    "    FN = np.sum(np.bitwise_and(y_test == 1, y_pred == 0))\n",
    "    TP = np.sum(np.bitwise_and(y_test == 1, y_pred == 1))\n",
    "    \n",
    "    # Calculate precision\n",
    "    precision = TP / (TP + FP)\n",
    "    # Calculate recall\n",
    "    recall = TP / (TP + FN)\n",
    "    \n",
    "    # Compute spending for each strategy\n",
    "    cost_perfect = np.sum(dollars_spent_test[:, 0])\n",
    "    cost_bookdrop = np.sum(dollars_spent_test[y_pred == 0, 3]) + np.sum(\n",
    "        dollars_spent_test[y_pred == 1, 1])\n",
    "    cost_tracker = np.sum(dollars_spent_test[:, 2])\n",
    "    cost_now = np.sum(dollars_spent_test[:, 3])\n",
    "    cost_wait_only = np.sum(dollars_spent_test[:, 4])\n",
    "    \n",
    "    # Spending for each strategy\n",
    "    cost_perfect = dollars_spent_test[:, 0]\n",
    "    cost_bookdrop = dollars_spent_test[np.arange(len(dollars_spent_test)), [3 if y == 0 else 1 for y in y_pred]]\n",
    "    cost_tracker = dollars_spent_test[:, 2]\n",
    "    cost_now = dollars_spent_test[:, 3]\n",
    "    cost_wait_only = dollars_spent_test[:, 4]\n",
    "    \n",
    "    cost_perfect = sum(cost_perfect)\n",
    "    cost_bookdrop = sum(cost_bookdrop)\n",
    "    cost_tracker = sum(cost_tracker)\n",
    "    cost_now = sum(cost_now)\n",
    "    cost_wait_only = sum(cost_wait_only)\n",
    "    \n",
    "    # Time waited for each strategy\n",
    "    lag_perfect = time_waited_test[:, 0]\n",
    "    lag_bookdrop = np.append(time_waited_test[y_pred == 1, 1],np.zeros((sum(y_pred==0),1)))\n",
    "    lag_tracker = time_waited_test[:, 2]\n",
    "    \n",
    "    # Median cost savings for each strategy\n",
    "    perfect_savings = 100 * (1 - np.median(cost_perfect / cost_now))\n",
    "    bookdrop_savings = 100 * (1 - np.median(cost_bookdrop / cost_now))\n",
    "    tracker_savings = 100 * (1 - np.median(cost_tracker / cost_now))\n",
    "    wait_only_savings = 100 * (1 - np.median(cost_wait_only / cost_now))\n",
    "      \n",
    "    # Efficiency\n",
    "    bookdrop_efficiency = bookdrop_savings / perfect_savings\n",
    "    tracker_efficiency = tracker_savings / perfect_savings\n",
    "    wait_only_efficiency = wait_only_savings / perfect_savings\n",
    "    \n",
    "    # Days waited\n",
    "    perfect_days = np.mean(lag_perfect) / 2\n",
    "    bookdrop_days = np.mean(lag_bookdrop) / 2\n",
    "    tracker_days = np.mean(lag_tracker) / 2\n",
    "    wait_only_days = future / 2\n",
    "     \n",
    "    # Time saved\n",
    "    perfect_time_savings = 100 - 100 * (perfect_days / wait_only_days)\n",
    "    bookdrop_time_savings = 100 - 100 * (bookdrop_days / wait_only_days)\n",
    "    \n",
    "    simulation_results = pd.DataFrame(\n",
    "        [[perfect_savings, 1, perfect_days,perfect_time_savings],\n",
    "         [bookdrop_savings, bookdrop_efficiency, bookdrop_days, bookdrop_time_savings],\n",
    "         [tracker_savings,tracker_efficiency,tracker_days,''],\n",
    "         [wait_only_savings,wait_only_efficiency,wait_only_days,'']\n",
    "        ],\n",
    "        columns=['median_savings', 'efficiency', 'mean_wait_time', 'time_saved'],\n",
    "        index=['Perfect','BookDrop','Tracker only','Wait'])\n",
    "    \n",
    "    return accuracy, precision, recall, simulation_results, TP, FP, TN, FN"
   ]
  },
  {
   "cell_type": "code",
   "execution_count": 13,
   "metadata": {
    "ExecuteTime": {
     "end_time": "2020-07-01T18:10:48.244629Z",
     "start_time": "2020-07-01T18:10:47.568408Z"
    }
   },
   "outputs": [
    {
     "name": "stdout",
     "output_type": "stream",
     "text": [
      "Logistic regression\n",
      "Accuracy: 72.0310264327133\n",
      "Precision: 0.28832292167227297\n",
      "Recall: 0.6147540983606558\n",
      "              median_savings  efficiency  mean_wait_time time_saved\n",
      "Perfect             3.158397    1.000000        1.910573    93.6314\n",
      "BookDrop            1.221924    0.386881        7.801755    73.9942\n",
      "Tracker only        0.713358    0.225861       27.500602           \n",
      "Wait               -0.113927   -0.036071       30.000000           \n",
      "\n",
      "Random forest\n",
      "Accuracy: 72.95730100158144\n",
      "Precision: 0.3041816009557945\n",
      "Recall: 0.6521516393442623\n",
      "              median_savings  efficiency  mean_wait_time time_saved\n",
      "Perfect             3.158397    1.000000        1.910573    93.6314\n",
      "BookDrop            1.480773    0.468837        7.759282    74.1357\n",
      "Tracker only        0.713358    0.225861       27.500602           \n",
      "Wait               -0.113927   -0.036071       30.000000           \n"
     ]
    }
   ],
   "source": [
    "# Evaluate the best model of each class on the secondary test set\n",
    "print('Logistic regression')\n",
    "accuracy, precision, recall, simulation_results, TP, FP, TN, FN = \\\n",
    "    evaluate_model(best_lr, X_test2_scaled, Y_test2, dollars_spent_test2, time_waited_test2, future)\n",
    "print('Accuracy: '+str(accuracy))\n",
    "print('Precision: '+str(precision))\n",
    "print('Recall: '+str(recall))\n",
    "print(simulation_results)\n",
    "print('')\n",
    "print('Random forest')\n",
    "accuracy, precision, recall, simulation_results, TP, FP, TN, FN = \\\n",
    "    evaluate_model(best_rf, X_test2, Y_test2, dollars_spent_test2, time_waited_test2, future)\n",
    "print('Accuracy: '+str(accuracy))\n",
    "print('Precision: '+str(precision))\n",
    "print('Recall: '+str(recall))\n",
    "print(simulation_results)"
   ]
  },
  {
   "cell_type": "markdown",
   "metadata": {},
   "source": [
    "The random forest model has higher recall and efficiency, so I will use it even though the logistic regression model has better accuracy."
   ]
  },
  {
   "cell_type": "markdown",
   "metadata": {},
   "source": [
    "# Evaluating the final model"
   ]
  },
  {
   "cell_type": "code",
   "execution_count": 14,
   "metadata": {
    "ExecuteTime": {
     "end_time": "2020-07-01T18:10:48.251582Z",
     "start_time": "2020-07-01T18:10:48.246595Z"
    }
   },
   "outputs": [
    {
     "data": {
      "text/plain": [
       "{'bootstrap': True,\n",
       " 'max_depth': 10,\n",
       " 'max_features': 'sqrt',\n",
       " 'min_samples_leaf': 4,\n",
       " 'min_samples_split': 4,\n",
       " 'n_estimators': 300}"
      ]
     },
     "execution_count": 14,
     "metadata": {},
     "output_type": "execute_result"
    }
   ],
   "source": [
    "# Show parameters for the best random forest model\n",
    "rf_grid.best_params_"
   ]
  },
  {
   "cell_type": "code",
   "execution_count": 15,
   "metadata": {
    "ExecuteTime": {
     "end_time": "2020-07-01T18:11:00.428042Z",
     "start_time": "2020-07-01T18:10:48.253577Z"
    }
   },
   "outputs": [
    {
     "data": {
      "text/plain": [
       "BalancedRandomForestClassifier(max_depth=10, max_features='sqrt',\n",
       "                               min_samples_leaf=4, min_samples_split=4,\n",
       "                               n_estimators=300)"
      ]
     },
     "execution_count": 15,
     "metadata": {},
     "output_type": "execute_result"
    }
   ],
   "source": [
    "# Train a model with the tuned parameters\n",
    "RF_model = BalancedRandomForestClassifier(**rf_grid.best_params_)\n",
    "RF_model.fit(X_train_full, Y_train_full)"
   ]
  },
  {
   "cell_type": "code",
   "execution_count": 16,
   "metadata": {
    "ExecuteTime": {
     "end_time": "2020-07-01T18:11:01.077310Z",
     "start_time": "2020-07-01T18:11:00.430034Z"
    }
   },
   "outputs": [
    {
     "name": "stdout",
     "output_type": "stream",
     "text": [
      "Accuracy: 72.60106415509755\n",
      "Precision: 0.3006939090208173\n",
      "Recall: 0.6467661691542289\n",
      "              median_savings  efficiency  mean_wait_time time_saved\n",
      "Perfect             2.937577    1.000000        1.960920    93.4636\n",
      "BookDrop            1.645654    0.560208        7.853434    73.8219\n",
      "Tracker only        0.915978    0.311814       27.535502           \n",
      "Wait               -0.029454   -0.010027       30.000000           \n"
     ]
    }
   ],
   "source": [
    "# Evaluate the final model on the actual test set\n",
    "accuracy, precision, recall, simulation_results, TP, FP, TN, FN = \\\n",
    "    evaluate_model(RF_model, X_test, Y_test, dollars_spent_test, time_waited_test, future)\n",
    "print('Accuracy: '+str(accuracy))\n",
    "print('Precision: '+str(precision))\n",
    "print('Recall: '+str(recall))\n",
    "print(simulation_results)"
   ]
  },
  {
   "cell_type": "code",
   "execution_count": 17,
   "metadata": {
    "ExecuteTime": {
     "end_time": "2020-07-01T18:11:01.270813Z",
     "start_time": "2020-07-01T18:11:01.079320Z"
    }
   },
   "outputs": [
    {
     "data": {
      "text/plain": [
       "<Figure size 648x648 with 0 Axes>"
      ]
     },
     "metadata": {},
     "output_type": "display_data"
    },
    {
     "data": {
      "image/png": "[encoded data removed]",
      "text/plain": [
       "<Figure size 432x288 with 2 Axes>"
      ]
     },
     "metadata": {
      "needs_background": "light"
     },
     "output_type": "display_data"
    }
   ],
   "source": [
    "# Plot confusion matrix\n",
    "\n",
    "# Generate the figure\n",
    "fig = plt.figure(figsize=(9,9))\n",
    "CM = sklearn.metrics.ConfusionMatrixDisplay(\n",
    "    np.array([[TN, FP], [FN, TP]]),\n",
    "    display_labels=['No price drop', 'Price drop']).plot(cmap=plt.cm.Blues,\n",
    "                                                         values_format='d')\n",
    "ax1 = CM.ax_\n",
    "tx = CM.text_\n",
    "\n",
    "plt.xticks(fontsize=16)\n",
    "plt.yticks(fontsize=16)\n",
    "\n",
    "ax1.set_title(\"Confusion matrix\", fontsize=21)\n",
    "\n",
    "ax1.set_ylabel(ylabel=\"True label\", fontsize=19)\n",
    "ax1.set_xlabel(xlabel=\"Predicted label\", fontsize=19)\n",
    "\n",
    "for i in [0, 1]:\n",
    "    for j in [0, 1]:\n",
    "        tx[i][j].set_fontsize(20)"
   ]
  },
  {
   "cell_type": "markdown",
   "metadata": {},
   "source": [
    "# Evaluating other problem definitions"
   ]
  },
  {
   "cell_type": "markdown",
   "metadata": {},
   "source": [
    "The positive class is defined as a price drop of 10% or more occurring over the next month, but there are other possible definitions. Below, I evaluate how useful each of those definitions might be."
   ]
  },
  {
   "cell_type": "code",
   "execution_count": 18,
   "metadata": {
    "ExecuteTime": {
     "end_time": "2020-07-01T18:11:01.278784Z",
     "start_time": "2020-07-01T18:11:01.272781Z"
    }
   },
   "outputs": [],
   "source": [
    "# Set up the other definitions\n",
    "futures = [28, 60, 120]\n",
    "drop_fracs = [.05, .1, .2]\n",
    "\n",
    "# Initialize evaluation metrics\n",
    "savings = np.zeros((len(futures),len(drop_fracs)))\n",
    "efficiency = np.zeros((len(futures),len(drop_fracs)))\n",
    "time_saved = np.zeros((len(futures),len(drop_fracs)))"
   ]
  },
  {
   "cell_type": "code",
   "execution_count": 19,
   "metadata": {
    "ExecuteTime": {
     "end_time": "2020-07-01T18:11:01.287740Z",
     "start_time": "2020-07-01T18:11:01.280759Z"
    }
   },
   "outputs": [],
   "source": [
    "def evaluate_definition(future, drop_frac, train, test, data_set):\n",
    "    # Extract the data\n",
    "    X_train, Y_train, dollars_spent_train, time_waited_train = extract_feature_data(\n",
    "        train, data_set, future, drop_frac)\n",
    "    X_test, Y_test, dollars_spent_test, time_waited_test = extract_feature_data(\n",
    "        test, data_set, future, drop_frac)\n",
    "    # Train the model\n",
    "    params = {\n",
    "        'bootstrap': True,\n",
    "        'max_depth': 5,\n",
    "        'max_features': 'sqrt',\n",
    "        'min_samples_leaf': 4,\n",
    "        'min_samples_split': 2,\n",
    "        'n_estimators': 100\n",
    "    }\n",
    "    RF_model = BalancedRandomForestClassifier(**params)\n",
    "    RF_model.fit(X_train, Y_train)\n",
    "    # Evaluate the model\n",
    "    accuracy, precision, recall, simulation_results, TP, FP, TN, FN = \\\n",
    "        evaluate_model(RF_model, X_test, Y_test, dollars_spent_test, time_waited_test, future)\n",
    "    return accuracy, precision, recall, simulation_results, TP, FP, TN, FN"
   ]
  },
  {
   "cell_type": "code",
   "execution_count": 20,
   "metadata": {
    "ExecuteTime": {
     "end_time": "2020-07-01T18:19:07.415921Z",
     "start_time": "2020-07-01T18:11:01.289736Z"
    }
   },
   "outputs": [],
   "source": [
    "# Evaluate each definition\n",
    "for i in range(len(futures)):\n",
    "    for j in range(len(drop_fracs)):\n",
    "        accuracy, precision, recall, simulation_results, TP, FP, TN, FN = \\\n",
    "            evaluate_definition(futures[i], drop_fracs[i], train, test, data_set)\n",
    "        \n",
    "        savings[i,j] = simulation_results.loc['BookDrop','median_savings']\n",
    "        efficiency[i,j] = simulation_results.loc['BookDrop','efficiency']\n",
    "        time_saved[i,j] = simulation_results.loc['BookDrop','time_saved']"
   ]
  },
  {
   "cell_type": "code",
   "execution_count": 21,
   "metadata": {
    "ExecuteTime": {
     "end_time": "2020-07-01T18:19:07.429855Z",
     "start_time": "2020-07-01T18:19:07.417886Z"
    }
   },
   "outputs": [
    {
     "name": "stdout",
     "output_type": "stream",
     "text": [
      "Savings\n",
      "         0.05      0.10      0.20\n",
      "28   0.824897  0.815777  0.917261\n",
      "60   1.661280  1.655369  1.602021\n",
      "120  2.226810  2.267235  2.292275\n",
      "Efficiency\n",
      "         0.05      0.10      0.20\n",
      "28   0.423221  0.424644  0.462397\n",
      "60   0.564605  0.565774  0.542472\n",
      "120  0.703710  0.715196  0.721549\n",
      "Time saved\n",
      "          0.05       0.10       0.20\n",
      "28   73.394125  72.140645  71.620560\n",
      "60   73.909829  74.109405  73.902650\n",
      "120  72.921655  72.282519  72.940939\n"
     ]
    }
   ],
   "source": [
    "# Display metrics for each definition\n",
    "labels = ['Savings', 'Efficiency', 'Time saved']\n",
    "for idx, metric in enumerate([savings, efficiency, time_saved]):\n",
    "    results = pd.DataFrame(metric, columns=drop_fracs, index=futures)\n",
    "    print(labels[idx])\n",
    "    print(results)"
   ]
  },
  {
   "cell_type": "markdown",
   "metadata": {},
   "source": [
    "Note that a 2-week lookahead period (28 12-hr periods) has low savings and efficiency, so those definitions are less useful. Then, because no drop fraction was more beneficial than any other, I decided to select 10% for the sake of simplicity. This means I will consider 10% drops for one- and two-month lookahead periods."
   ]
  }
 ],
 "metadata": {
  "kernelspec": {
   "display_name": "Python 3",
   "language": "python",
   "name": "python3"
  },
  "language_info": {
   "codemirror_mode": {
    "name": "ipython",
    "version": 3
   },
   "file_extension": ".py",
   "mimetype": "text/x-python",
   "name": "python",
   "nbconvert_exporter": "python",
   "pygments_lexer": "ipython3",
   "version": "3.8.3"
  },
  "toc": {
   "base_numbering": 1,
   "nav_menu": {},
   "number_sections": false,
   "sideBar": true,
   "skip_h1_title": false,
   "title_cell": "Table of Contents",
   "title_sidebar": "Contents",
   "toc_cell": true,
   "toc_position": {},
   "toc_section_display": true,
   "toc_window_display": false
  },
  "varInspector": {
   "cols": {
    "lenName": 16,
    "lenType": 16,
    "lenVar": 40
   },
   "kernels_config": {
    "python": {
     "delete_cmd_postfix": "",
     "delete_cmd_prefix": "del ",
     "library": "var_list.py",
     "varRefreshCmd": "print(var_dic_list())"
    },
    "r": {
     "delete_cmd_postfix": ") ",
     "delete_cmd_prefix": "rm(",
     "library": "var_list.r",
     "varRefreshCmd": "cat(var_dic_list()) "
    }
   },
   "types_to_exclude": [
    "module",
    "function",
    "builtin_function_or_method",
    "instance",
    "_Feature"
   ],
   "window_display": false
  }
 },
 "nbformat": 4,
 "nbformat_minor": 4
}
