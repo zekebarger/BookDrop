{
 "cells": [
  {
   "cell_type": "markdown",
   "metadata": {
    "toc": true
   },
   "source": [
    "<h1>Table of Contents<span class=\"tocSkip\"></span></h1>\n",
    "<div class=\"toc\"><ul class=\"toc-item\"><li><span><a href=\"#Imports\" data-toc-modified-id=\"Imports-1\">Imports</a></span></li><li><span><a href=\"#Define-parameters\" data-toc-modified-id=\"Define-parameters-2\">Define parameters</a></span></li><li><span><a href=\"#Perform-cross-validation\" data-toc-modified-id=\"Perform-cross-validation-3\">Perform cross-validation</a></span></li><li><span><a href=\"#Analyze-results\" data-toc-modified-id=\"Analyze-results-4\">Analyze results</a></span></li><li><span><a href=\"#Plot-confusion-matrix\" data-toc-modified-id=\"Plot-confusion-matrix-5\">Plot confusion matrix</a></span></li></ul></div>"
   ]
  },
  {
   "cell_type": "markdown",
   "metadata": {},
   "source": [
    "# Imports"
   ]
  },
  {
   "cell_type": "code",
   "execution_count": 1,
   "metadata": {
    "ExecuteTime": {
     "end_time": "2020-06-27T22:09:03.834892Z",
     "start_time": "2020-06-27T22:08:56.754877Z"
    }
   },
   "outputs": [],
   "source": [
    "import numpy as np\n",
    "import matplotlib.pyplot as plt\n",
    "%matplotlib inline\n",
    "import pandas as pd\n",
    "import datetime\n",
    "import os.path\n",
    "import random\n",
    "from imblearn.under_sampling import RandomUnderSampler\n",
    "import sklearn.metrics \n",
    "from sklearn import tree, ensemble\n",
    "from sklearn.ensemble import RandomForestClassifier\n",
    "from sklearn import calibration\n",
    "import utils.bookdroputils as bd\n",
    "import sklearn.model_selection as model_selection"
   ]
  },
  {
   "cell_type": "markdown",
   "metadata": {},
   "source": [
    "# Define parameters"
   ]
  },
  {
   "cell_type": "code",
   "execution_count": 2,
   "metadata": {
    "ExecuteTime": {
     "end_time": "2020-06-27T22:09:03.842748Z",
     "start_time": "2020-06-27T22:09:03.837761Z"
    }
   },
   "outputs": [],
   "source": [
    "# Specify the dataset to use\n",
    "data_set = 'paperbacks' # 'boardgames' or 'paperbacks'\n",
    "\n",
    "# Find directory for that dataset\n",
    "mydir = os.path.join('data',data_set)\n",
    "\n",
    "# Number of folds for cross-validation\n",
    "folds = 10\n",
    "# Number of timepoints to search ahead for a price drop\n",
    "future = 60\n",
    "# Fraction of the price considered a 'drop'\n",
    "# E.g., 0.1 for a 10% price drop\n",
    "drop_frac = .1"
   ]
  },
  {
   "cell_type": "markdown",
   "metadata": {},
   "source": [
    "# Perform cross-validation"
   ]
  },
  {
   "cell_type": "code",
   "execution_count": 3,
   "metadata": {
    "ExecuteTime": {
     "end_time": "2020-06-27T22:11:45.002939Z",
     "start_time": "2020-06-27T22:09:03.845740Z"
    },
    "scrolled": false
   },
   "outputs": [
    {
     "name": "stdout",
     "output_type": "stream",
     "text": [
      "fold 1 of 10\n",
      "fold 2 of 10\n",
      "fold 3 of 10\n",
      "fold 4 of 10\n",
      "fold 5 of 10\n",
      "fold 6 of 10\n",
      "fold 7 of 10\n",
      "fold 8 of 10\n",
      "fold 9 of 10\n",
      "fold 10 of 10\n"
     ]
    }
   ],
   "source": [
    "# Set random seeds for reproducability\n",
    "random.seed(99)\n",
    "np.random.seed(99)\n",
    "\n",
    "# Collect list of files in the dataset\n",
    "file_list = [\n",
    "    f for f in os.listdir(mydir) if os.path.isfile(os.path.join(mydir, f))\n",
    "]\n",
    "# Count number of files\n",
    "num_files = len(file_list)\n",
    "# Initialize data structure for the validation metrics\n",
    "results = list()\n",
    "\n",
    "# Calculate number of products in the test set\n",
    "ntest = int(np.floor((1 / folds) * num_files))\n",
    "# Generate lists of file indices\n",
    "full_idx_list = np.arange(0, num_files)\n",
    "possible_test_idx = np.copy(full_idx_list)\n",
    "\n",
    "# Generate train and test sets\n",
    "train_list = list()\n",
    "test_list = list()\n",
    "for fold in range(folds):\n",
    "    test_list.append(\n",
    "        np.random.choice(possible_test_idx, size=ntest, replace=False))\n",
    "    train_list.append(np.setdiff1d(full_idx_list, test_list[-1]))\n",
    "    possible_test_idx = np.setdiff1d(possible_test_idx, test_list[-1])\n",
    "\n",
    "# Perform cross-validation\n",
    "for fold in range(folds):\n",
    "    print('fold ' + str(fold + 1) + ' of ' + str(folds))\n",
    "\n",
    "    # Select train and test sets\n",
    "    test_idx = test_list[fold]\n",
    "    train_idx = train_list[fold]\n",
    "\n",
    "    # Initialize storage for features, labels, simulation data\n",
    "    X = list([list([]), list([])])\n",
    "    Y = list([list([]), list([])])\n",
    "    dollars_spent = list([list([]), list([])])\n",
    "    time_waited = list([list([]), list([])])\n",
    "\n",
    "    # Keep track of which files we are processing (0=train, 1=test)\n",
    "    count = -1\n",
    "\n",
    "    for idx in [train_idx, test_idx]:\n",
    "        count += 1\n",
    "        # Select training or test files\n",
    "        file_subset = np.array(file_list)[idx]\n",
    "        # For each product\n",
    "        for product_id in file_subset:\n",
    "            # Read file\n",
    "            df = pd.read_csv(os.path.join('data', data_set, product_id))\n",
    "            # Drop missing values\n",
    "            df.dropna(inplace=True)\n",
    "            # Convert prices to array\n",
    "            prices = np.array(df['price'])\n",
    "\n",
    "            # Sample data at 1-month intervals, starting at a random point in time\n",
    "            for k in range(\n",
    "                    random.randint(0, 30) + 120 + 5,\n",
    "                    df.shape[0] - future - 30, 60):\n",
    "\n",
    "                # Extract price features\n",
    "                features = bd.compute_features(prices[:k + 1], drop_frac)\n",
    "\n",
    "                # Store the features\n",
    "                X[count].append(features)\n",
    "\n",
    "                # Store the class label\n",
    "                if np.any(prices[(k + 1):(k + future + 1)] <\n",
    "                          (1 - drop_frac) * prices[k]):\n",
    "                    Y[count].append(1)\n",
    "                else:\n",
    "                    Y[count].append(0)\n",
    "\n",
    "                # Extract the prices in the lookahead period\n",
    "                future_prices = prices[(k + 1):(k + future + 1)]\n",
    "\n",
    "                # Compute dollars spent and time waited for each strategy\n",
    "                if Y[count][-1] == 1:\n",
    "                    idx_below = np.argwhere(future_prices < (1 - drop_frac) *\n",
    "                                            prices[k])[0].astype(int)[0]\n",
    "                    bookdrop_price = future_prices[idx_below]\n",
    "                    bookdrop_wait = idx_below + 1\n",
    "                    tracker_price = future_prices[idx_below]\n",
    "                    tracker_wait = idx_below + 1\n",
    "                    perfect_price = future_prices[idx_below]\n",
    "                    perfect_wait = idx_below + 1\n",
    "\n",
    "                else:\n",
    "                    bookdrop_price = prices[k + future]\n",
    "                    bookdrop_wait = future\n",
    "                    tracker_price = prices[k + future]\n",
    "                    tracker_wait = future\n",
    "                    perfect_price = prices[k]\n",
    "                    perfect_wait = 0\n",
    "\n",
    "                # Store the dollars spent\n",
    "                dollars_spent[count].append(\n",
    "                    np.array([\n",
    "                        perfect_price, bookdrop_price, tracker_price,\n",
    "                        prices[k], prices[k + future]\n",
    "                    ]))\n",
    "\n",
    "                # Store the time waited\n",
    "                time_waited[count].append(\n",
    "                    np.array([perfect_wait, bookdrop_wait, tracker_wait]))\n",
    "\n",
    "    # Convert observations to arrays\n",
    "    x_train = np.array(X[0])\n",
    "    x_test = np.array(X[1])\n",
    "    y_train = np.array(Y[0])\n",
    "    y_test = np.array(Y[1])\n",
    "    spending = np.array(dollars_spent[1])\n",
    "    waiting = np.array(time_waited[1])\n",
    "\n",
    "    # Hold out some training data to calibrate the classifier\n",
    "    x_cal, x_train, y_cal, y_train = model_selection.train_test_split(\n",
    "        x_train, y_train, train_size=0.2, test_size=0.8)\n",
    "\n",
    "    # Balance classes in training set\n",
    "    undersample = RandomUnderSampler(sampling_strategy='majority')\n",
    "    x_train_balanced, y_train_balanced = undersample.fit_resample(\n",
    "        x_train, y_train)\n",
    "\n",
    "    # Define parameters for the random forest model\n",
    "    parameters = {\n",
    "        'bootstrap': True,\n",
    "        'min_samples_leaf': 3,\n",
    "        'n_estimators': 200,\n",
    "        'min_samples_split': 10,\n",
    "        'max_features': 'sqrt',\n",
    "        'max_depth': 6,\n",
    "        'max_leaf_nodes': None\n",
    "    }\n",
    "    # Initialize the model\n",
    "    RF_model_uncalibrated = RandomForestClassifier(**parameters)\n",
    "    # Fit the model\n",
    "    RF_model_uncalibrated.fit(x_train_balanced, y_train_balanced)\n",
    "    # Predict probabilities on the test set\n",
    "    uncalibrated_probs = RF_model_uncalibrated.predict_proba(x_test)\n",
    "    \n",
    "    # Model calibration\n",
    "    # Create calibrated model\n",
    "    RF_model = calibration.CalibratedClassifierCV(RF_model_uncalibrated,\n",
    "                                                  cv=\"prefit\",\n",
    "                                                  method='sigmoid')\n",
    "    # Fit the model\n",
    "    RF_model.fit(x_cal, y_cal)\n",
    "    calibrated_probs = RF_model.predict_proba(x_test)\n",
    "    # Find the classification threshold that gives the same\n",
    "    # outputs as the calibrated classifier\n",
    "    threshold = np.quantile(\n",
    "        calibrated_probs[:, 1],\n",
    "        np.sum(uncalibrated_probs[:, 1] <= .5) /\n",
    "        np.size(uncalibrated_probs[:, 1]))\n",
    "    # Make predictions\n",
    "    y_pred = (calibrated_probs[:, 1] > threshold).astype(int)\n",
    "\n",
    "    # Calculate accuracy on the test set\n",
    "    RFscore = sklearn.metrics.accuracy_score(y_test, y_pred)\n",
    "\n",
    "    # Compute spending for each strategy\n",
    "    cost_perfect = np.sum(spending[:, 0])\n",
    "    cost_bookdrop = np.sum(spending[y_pred == 0, 3]) + np.sum(\n",
    "        spending[y_pred == 1, 1])\n",
    "    cost_tracker = np.sum(spending[:, 2])\n",
    "    cost_now = np.sum(spending[:, 3])\n",
    "    cost_wait = np.sum(spending[:, 4])\n",
    "\n",
    "    # Compute time waited for each strategy\n",
    "    lag_perfect = np.sum(waiting[:, 0])\n",
    "    lag_bookdrop = np.sum(waiting[y_pred == 1, 1])\n",
    "    lag_tracker = np.sum(waiting[:, 2])\n",
    "\n",
    "    # Compute errors for the confusion matrix\n",
    "    TN = np.sum(np.bitwise_and(y_test == 0, y_pred == 0))\n",
    "    FP = np.sum(np.bitwise_and(y_test == 0, y_pred == 1))\n",
    "    FN = np.sum(np.bitwise_and(y_test == 1, y_pred == 0))\n",
    "    TP = np.sum(np.bitwise_and(y_test == 1, y_pred == 1))\n",
    "\n",
    "    results.append([\n",
    "        cost_perfect, cost_bookdrop, cost_tracker, cost_now, cost_wait,\n",
    "        RFscore, lag_perfect, lag_bookdrop, lag_tracker, TN, FP, FN,\n",
    "        TP\n",
    "    ])"
   ]
  },
  {
   "cell_type": "markdown",
   "metadata": {},
   "source": [
    "# Analyze results"
   ]
  },
  {
   "cell_type": "code",
   "execution_count": 6,
   "metadata": {
    "ExecuteTime": {
     "end_time": "2020-06-27T22:13:20.749942Z",
     "start_time": "2020-06-27T22:13:20.697091Z"
    }
   },
   "outputs": [
    {
     "name": "stdout",
     "output_type": "stream",
     "text": [
      "Accuracy: 0.7289125084143847\n",
      "Precision: 0.37141113258020403\n",
      "Recall: 0.6268935301538869\n"
     ]
    },
    {
     "data": {
      "text/html": [
       "<div>\n",
       "<style scoped>\n",
       "    .dataframe tbody tr th:only-of-type {\n",
       "        vertical-align: middle;\n",
       "    }\n",
       "\n",
       "    .dataframe tbody tr th {\n",
       "        vertical-align: top;\n",
       "    }\n",
       "\n",
       "    .dataframe thead th {\n",
       "        text-align: right;\n",
       "    }\n",
       "</style>\n",
       "<table border=\"1\" class=\"dataframe\">\n",
       "  <thead>\n",
       "    <tr style=\"text-align: right;\">\n",
       "      <th></th>\n",
       "      <th>savings</th>\n",
       "      <th>efficiency</th>\n",
       "      <th>wait_time</th>\n",
       "      <th>time_saved</th>\n",
       "    </tr>\n",
       "  </thead>\n",
       "  <tbody>\n",
       "    <tr>\n",
       "      <th>Perfect</th>\n",
       "      <td>4.665959</td>\n",
       "      <td>1.000000</td>\n",
       "      <td>2.495360</td>\n",
       "      <td>91.6821</td>\n",
       "    </tr>\n",
       "    <tr>\n",
       "      <th>BookDrop</th>\n",
       "      <td>2.560787</td>\n",
       "      <td>0.538179</td>\n",
       "      <td>7.503988</td>\n",
       "      <td>74.9867</td>\n",
       "    </tr>\n",
       "    <tr>\n",
       "      <th>Tracker only</th>\n",
       "      <td>1.747138</td>\n",
       "      <td>0.416086</td>\n",
       "      <td>26.834552</td>\n",
       "      <td></td>\n",
       "    </tr>\n",
       "    <tr>\n",
       "      <th>Wait</th>\n",
       "      <td>-0.032769</td>\n",
       "      <td>-0.007274</td>\n",
       "      <td>30.000000</td>\n",
       "      <td></td>\n",
       "    </tr>\n",
       "  </tbody>\n",
       "</table>\n",
       "</div>"
      ],
      "text/plain": [
       "               savings  efficiency  wait_time time_saved\n",
       "Perfect       4.665959    1.000000   2.495360    91.6821\n",
       "BookDrop      2.560787    0.538179   7.503988    74.9867\n",
       "Tracker only  1.747138    0.416086  26.834552           \n",
       "Wait         -0.032769   -0.007274  30.000000           "
      ]
     },
     "execution_count": 6,
     "metadata": {},
     "output_type": "execute_result"
    }
   ],
   "source": [
    "# Convert results to dataframe\n",
    "df = pd.DataFrame(results,\n",
    "                  columns=[\n",
    "                      'cost_perfect', 'cost_BookDrop', 'cost_tracker',\n",
    "                      'cost_now', 'cost_wait', 'accuracy', 'lag_perfect',\n",
    "                      'lag_BookDrop', 'lag_tracker', 'TN', 'FP', 'FN', 'TP'\n",
    "                  ])\n",
    "\n",
    "# Accuracy\n",
    "print('Accuracy: ' + str(df['accuracy'].mean()))\n",
    "\n",
    "# Precision\n",
    "print('Precision: ' + str((df['TP'] / (df['TP'] + df['FP'])).mean()))\n",
    "\n",
    "# Recall\n",
    "print('Recall: ' + str((df['TP'] / (df['TP'] + df['FN'])).mean()))\n",
    "\n",
    "# Results of simulated purchases\n",
    "# Savings\n",
    "df['perfect_savings'] = 100 * (1 - (df['cost_perfect'] / df['cost_now']))\n",
    "df['BookDrop_savings'] = 100 * (1 - (df['cost_BookDrop'] / df['cost_now']))\n",
    "df['tracker_savings'] = 100 * (1 - (df['cost_tracker'] / df['cost_now']))\n",
    "df['wait_savings'] = 100 * (1 - (df['cost_wait'] / df['cost_now']))\n",
    "# Efficiency\n",
    "df['BookDrop_efficiency'] = df['BookDrop_savings'] / df['perfect_savings']\n",
    "df['tracker_efficiency'] = df['tracker_savings'] / df['perfect_savings']\n",
    "df['wait_efficiency'] = df['wait_savings'] / df['perfect_savings']\n",
    "# Days waited\n",
    "# (first, count number of observations)\n",
    "# (also, lag is expressed in # of 12-hr periods)\n",
    "df['num_obs'] = df['TN'] + df['TP'] + df['FN'] + df['FP']\n",
    "df['perfect_days'] = (df['lag_perfect'] / 2) / df['num_obs']\n",
    "df['BookDrop_days'] = (df['lag_BookDrop'] / 2) / df['num_obs']\n",
    "df['tracker_days'] = (df['lag_tracker'] / 2) / df['num_obs']\n",
    "df['wait_days'] = future / 2\n",
    "# Time saved\n",
    "df['perfect_time_savings'] = 100 - 100 * (df['perfect_days'] / df['wait_days'])\n",
    "df['BookDrop_time_savings'] = 100 - 100 * (df['BookDrop_days'] / df['wait_days'])\n",
    "\n",
    "# Compute means\n",
    "means = df.mean()\n",
    "\n",
    "# Create a table of metrics for simulated purchases\n",
    "simulation_results = pd.DataFrame(\n",
    "    [[means['perfect_savings'], 1, means['perfect_days'],means['perfect_time_savings']],\n",
    "     [means['BookDrop_savings'], means['BookDrop_efficiency'], means['BookDrop_days'],means['BookDrop_time_savings']],\n",
    "     [means['tracker_savings'],means['tracker_efficiency'],means['tracker_days'],''],\n",
    "     [means['wait_savings'],means['wait_efficiency'],means['wait_days'],'']\n",
    "    ],\n",
    "    columns=['savings', 'efficiency', 'wait_time', 'time_saved'],\n",
    "    index=['Perfect','BookDrop','Tracker only','Wait'])\n",
    "simulation_results"
   ]
  },
  {
   "cell_type": "markdown",
   "metadata": {},
   "source": [
    "# Plot confusion matrix"
   ]
  },
  {
   "cell_type": "code",
   "execution_count": 11,
   "metadata": {
    "ExecuteTime": {
     "end_time": "2020-06-27T22:19:34.290057Z",
     "start_time": "2020-06-27T22:19:34.138463Z"
    }
   },
   "outputs": [
    {
     "data": {
      "text/plain": [
       "<Figure size 648x648 with 0 Axes>"
      ]
     },
     "metadata": {},
     "output_type": "display_data"
    },
    {
     "data": {
      "image/png": "[encoded data removed]",
      "text/plain": [
       "<Figure size 432x288 with 2 Axes>"
      ]
     },
     "metadata": {
      "needs_background": "light"
     },
     "output_type": "display_data"
    }
   ],
   "source": [
    "# Compute each cell's value\n",
    "TN = df['TN'].sum()\n",
    "FP = df['FP'].sum()\n",
    "FN = df['FN'].sum()\n",
    "TP = df['TP'].sum()\n",
    "\n",
    "# Generate the figure\n",
    "fig = plt.figure(figsize=(9,9))\n",
    "CM = sklearn.metrics.ConfusionMatrixDisplay(\n",
    "    np.array([[TN, FP], [FN, TP]]),\n",
    "    display_labels=['No price drop', 'Price drop']).plot(cmap=plt.cm.Blues,\n",
    "                                                         values_format='d')\n",
    "ax1 = CM.ax_\n",
    "tx = CM.text_\n",
    "\n",
    "plt.xticks(fontsize=16)\n",
    "plt.yticks(fontsize=16)\n",
    "\n",
    "ax1.set_title(\"Confusion matrix\", fontsize=21)\n",
    "\n",
    "ax1.set_ylabel(ylabel=\"True label\", fontsize=19)\n",
    "ax1.set_xlabel(xlabel=\"Predicted label\", fontsize=19)\n",
    "\n",
    "for i in [0, 1]:\n",
    "    for j in [0, 1]:\n",
    "        tx[i][j].set_fontsize(20)"
   ]
  }
 ],
 "metadata": {
  "kernelspec": {
   "display_name": "Python 3",
   "language": "python",
   "name": "python3"
  },
  "language_info": {
   "codemirror_mode": {
    "name": "ipython",
    "version": 3
   },
   "file_extension": ".py",
   "mimetype": "text/x-python",
   "name": "python",
   "nbconvert_exporter": "python",
   "pygments_lexer": "ipython3",
   "version": "3.8.3"
  },
  "toc": {
   "base_numbering": 1,
   "nav_menu": {},
   "number_sections": false,
   "sideBar": true,
   "skip_h1_title": false,
   "title_cell": "Table of Contents",
   "title_sidebar": "Contents",
   "toc_cell": true,
   "toc_position": {},
   "toc_section_display": true,
   "toc_window_display": false
  },
  "varInspector": {
   "cols": {
    "lenName": 16,
    "lenType": 16,
    "lenVar": 40
   },
   "kernels_config": {
    "python": {
     "delete_cmd_postfix": "",
     "delete_cmd_prefix": "del ",
     "library": "var_list.py",
     "varRefreshCmd": "print(var_dic_list())"
    },
    "r": {
     "delete_cmd_postfix": ") ",
     "delete_cmd_prefix": "rm(",
     "library": "var_list.r",
     "varRefreshCmd": "cat(var_dic_list()) "
    }
   },
   "types_to_exclude": [
    "module",
    "function",
    "builtin_function_or_method",
    "instance",
    "_Feature"
   ],
   "window_display": false
  }
 },
 "nbformat": 4,
 "nbformat_minor": 4
}
